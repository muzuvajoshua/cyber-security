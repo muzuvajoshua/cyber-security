{
  "nbformat": 4,
  "nbformat_minor": 0,
  "metadata": {
    "colab": {
      "name": "my project.ipynb",
      "provenance": []
    },
    "kernelspec": {
      "name": "python3",
      "display_name": "Python 3"
    },
    "language_info": {
      "name": "python"
    }
  },
  "cells": [
    {
      "cell_type": "code",
      "metadata": {
        "id": "Cs_XvwpTZQ6i"
      },
      "source": [
        "import requests\n",
        "from datetime import datetime"
      ],
      "execution_count": 12,
      "outputs": []
    },
    {
      "cell_type": "code",
      "metadata": {
        "colab": {
          "base_uri": "https://localhost:8080/"
        },
        "id": "jMq3wTbrZ9u3",
        "outputId": "a4627a57-c7f2-4e1f-8bd9-4bf5588fc383"
      },
      "source": [
        "api_key = '7a2253c734f6da5493ac0f2478acb712'\n",
        "location = input(\"enter the city name:\")"
      ],
      "execution_count": 13,
      "outputs": [
        {
          "output_type": "stream",
          "text": [
            "enter the city name:tunis\n"
          ],
          "name": "stdout"
        }
      ]
    },
    {
      "cell_type": "code",
      "metadata": {
        "id": "op3I94YgakiP"
      },
      "source": [
        "complete_api_link = \"https://api.openweathermap.org/data/2.5/weather?q=\"+location+\"&appid=\"+api_key\n",
        "api_link = requests.get(complete_api_link)\n",
        "api_data = api_link.json()"
      ],
      "execution_count": 14,
      "outputs": []
    },
    {
      "cell_type": "code",
      "metadata": {
        "id": "HjrT_sy5blE2"
      },
      "source": [
        "temp_city = ((api_data['main']['temp']) - 273.15)\n",
        "weather_desc = api_data['weather'][0]['description']\n",
        "hmdt = api_data['main']['humidity']\n",
        "wind_spd = api_data['wind']['speed']\n",
        "date_time = datetime.now().strftime(\"%d %b %Y | %I:%M:%S %p\")"
      ],
      "execution_count": 15,
      "outputs": []
    },
    {
      "cell_type": "code",
      "metadata": {
        "colab": {
          "base_uri": "https://localhost:8080/"
        },
        "id": "hTFPvx48dtLU",
        "outputId": "bebbbaef-fbc8-47be-9c32-ad6e0c59ef6d"
      },
      "source": [
        "print (\"-------------------------------------------------------------\")\n",
        "print (\"Weather Stats for - {}  || {}\".format(location.upper(), date_time))\n",
        "print (\"-------------------------------------------------------------\")\n"
      ],
      "execution_count": 16,
      "outputs": [
        {
          "output_type": "stream",
          "text": [
            "-------------------------------------------------------------\n",
            "Weather Stats for - TUNIS  || 26 Jul 2021 | 03:55:46 PM\n",
            "-------------------------------------------------------------\n"
          ],
          "name": "stdout"
        }
      ]
    },
    {
      "cell_type": "code",
      "metadata": {
        "colab": {
          "base_uri": "https://localhost:8080/"
        },
        "id": "ZpmeSgwvfFar",
        "outputId": "229d5dfb-54ff-493c-802d-ba1dabd9ef62"
      },
      "source": [
        "print (\"Current temperature is: {:.2f} deg C\".format(temp_city))\n",
        "print (\"Current weather desc  :\",weather_desc)\n",
        "print (\"Current Humidity      :\",hmdt, '%')\n",
        "print (\"Current wind speed    :\",wind_spd ,'kmph')"
      ],
      "execution_count": 17,
      "outputs": [
        {
          "output_type": "stream",
          "text": [
            "Current temperature is: 41.89 deg C\n",
            "Current weather desc  : clear sky\n",
            "Current Humidity      : 8 %\n",
            "Current wind speed    : 4.41 kmph\n"
          ],
          "name": "stdout"
        }
      ]
    },
    {
      "cell_type": "code",
      "metadata": {
        "colab": {
          "base_uri": "https://localhost:8080/"
        },
        "id": "dA1K2S0KgHVh",
        "outputId": "b0fbde7e-eaea-4d69-d20d-50aa8b3073c9"
      },
      "source": [
        "print(\"================================\")"
      ],
      "execution_count": 18,
      "outputs": [
        {
          "output_type": "stream",
          "text": [
            "================================\n"
          ],
          "name": "stdout"
        }
      ]
    },
    {
      "cell_type": "code",
      "metadata": {
        "id": "pw9_GbqqhD75"
      },
      "source": [
        "txtlist = [temp_city,weather_desc,hmdt,wind_spd,date_time]"
      ],
      "execution_count": 19,
      "outputs": []
    },
    {
      "cell_type": "code",
      "metadata": {
        "id": "eU-ZNiVBhNEx"
      },
      "source": [
        "with open(\"textfile.txt\" , mode= 'w' ,encoding= 'cp1252') as f : \n",
        "\n",
        "\n",
        "    f.write(\"------------------------------------------------------------- \\n \")   \n",
        "    f.write(\"Weather Stats for - {}  || {}\".format(location.upper(), date_time))\n",
        "    f.write(\"\\n ------------------------------------------------------------- \\n\")\n",
        "    f.write(\"Current temperature is: {:.2f} deg C\\n\".format(txtlist[0]))\n",
        "\n",
        "    f.write(\"{},{} \\n\".format(\"Current weather desc  :\" ,txtlist[1]))\n",
        "    f.write(\"{},{},{} \\n\".format(\"Current Humidity      :\",txtlist[2],\"%\"))\n",
        "    f.write(\"{},{},{} \\n\".format(\"Current wind speed    :\",txtlist[3],\"kmph\"))\n",
        "    f.write(\"====================================================\")\n",
        "\n"
      ],
      "execution_count": 20,
      "outputs": []
    }
  ]
}